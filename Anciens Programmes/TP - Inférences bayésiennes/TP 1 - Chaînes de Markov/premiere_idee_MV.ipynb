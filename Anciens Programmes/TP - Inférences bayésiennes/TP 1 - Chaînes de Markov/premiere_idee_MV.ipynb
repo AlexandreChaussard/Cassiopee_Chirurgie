{
 "cells": [
  {
   "cell_type": "code",
   "execution_count": 6,
   "metadata": {},
   "outputs": [],
   "source": [
    "from scipy.stats import norm\n",
    "import numpy as np\n",
    "\n",
    "# bruite le vecteur X avec un bruit gaussien indep.\n",
    "def bruit_gauss2(X, cl1, cl2, m1, sig1, m2, sig2):\n",
    "    \n",
    "    Y = []\n",
    "    \n",
    "    for x in X:\n",
    "        \n",
    "        u = np.random.random()\n",
    "        \n",
    "        if x == cl1:\n",
    "            Y.append(np.random.normal(loc=m1, scale=sig1))\n",
    "        else:\n",
    "            Y.append(np.random.normal(loc=m2, scale=sig2))\n",
    "    \n",
    "    return Y"
   ]
  },
  {
   "cell_type": "code",
   "execution_count": 7,
   "metadata": {},
   "outputs": [],
   "source": [
    "# Construit le signal segmenté S en classant les données du signal bruité\n",
    "def classif_gauss2(Y, cl1, cl2, m1, sig1, m2, sig2):\n",
    "    \n",
    "    S = []\n",
    "    \n",
    "    for y in Y:\n",
    "        \n",
    "        if norm.pdf(y, m1, sig1) > norm.pdf(y, m2, sig2):\n",
    "            S.append(cl1)\n",
    "        else:\n",
    "            S.append(cl2)\n",
    "    \n",
    "    return S"
   ]
  },
  {
   "cell_type": "code",
   "execution_count": 4,
   "metadata": {},
   "outputs": [],
   "source": [
    "import matplotlib.pyplot as plt\n",
    "\n",
    "# Calcul du taux d'erreur\n",
    "def taux_erreur(A, B):\n",
    "    \n",
    "    if len(A) != len(B):\n",
    "        print(\"Impossible de comparer des signaux n'ayant pas le même nombre d'échantillons\")\n",
    "        return\n",
    "    \n",
    "    # Index des signaux différents \n",
    "    i = 0\n",
    "    \n",
    "    for k in range(0, len(A)):\n",
    "        if A[k] != B[k]:\n",
    "            i+=1\n",
    "    \n",
    "    return i/len(A)\n",
    "\n",
    "# Script première idée\n",
    "def premiere_idee(m1, sig1, m2, sig2):\n",
    "\n",
    "    # Chargement des données\n",
    "    X = np.load(\"signal.npy\")\n",
    "\n",
    "    # Construction de l'abscisse\n",
    "    abscisse = []\n",
    "    for i in range(0, len(X)):\n",
    "        abscisse.append(i)\n",
    "    \n",
    "    # Récupération des classes\n",
    "    cl1, cl2 = np.unique(X)\n",
    "\n",
    "    # Bruitage du signal\n",
    "    Y = bruit_gauss2(X, cl1, cl2, m1, sig1, m2, sig2)\n",
    "    \n",
    "    # Segmentation\n",
    "    S = classif_gauss2(Y, cl1, cl2, m1, sig1, m2, sig2)\n",
    "    \n",
    "    # Plot\n",
    "    plt.plot(abscisse, X, 'r-')\n",
    "    plt.plot(abscisse, Y, 'g.')\n",
    "    plt.plot(abscisse, S, 'b.')\n",
    "    \n",
    "    plt.title(\"Taux d'erreur moyen : \" + str(erreur_moyenne_MV(100, m1, sig1, m2, sig2)))\n",
    "    \n",
    "    plt.show()"
   ]
  },
  {
   "cell_type": "code",
   "execution_count": 5,
   "metadata": {},
   "outputs": [
    {
     "ename": "FileNotFoundError",
     "evalue": "[Errno 2] No such file or directory: 'signal.npy'",
     "output_type": "error",
     "traceback": [
      "\u001b[1;31m---------------------------------------------------------------------------\u001b[0m",
      "\u001b[1;31mFileNotFoundError\u001b[0m                         Traceback (most recent call last)",
      "\u001b[1;32m<ipython-input-5-096f389c24d5>\u001b[0m in \u001b[0;36m<module>\u001b[1;34m\u001b[0m\n\u001b[0;32m      1\u001b[0m \u001b[1;31m# Calcul moyen du taux d'erreur\u001b[0m\u001b[1;33m\u001b[0m\u001b[1;33m\u001b[0m\u001b[1;33m\u001b[0m\u001b[0m\n\u001b[1;32m----> 2\u001b[1;33m \u001b[1;32mdef\u001b[0m \u001b[0merreur_moyenne_MV\u001b[0m\u001b[1;33m(\u001b[0m\u001b[0mT\u001b[0m\u001b[1;33m,\u001b[0m \u001b[0mm1\u001b[0m\u001b[1;33m,\u001b[0m \u001b[0msig1\u001b[0m\u001b[1;33m,\u001b[0m \u001b[0mm2\u001b[0m\u001b[1;33m,\u001b[0m \u001b[0msig2\u001b[0m\u001b[1;33m,\u001b[0m \u001b[0mtoPlot\u001b[0m\u001b[1;33m=\u001b[0m\u001b[1;32mFalse\u001b[0m\u001b[1;33m,\u001b[0m \u001b[0mforceX\u001b[0m\u001b[1;33m=\u001b[0m\u001b[0mnp\u001b[0m\u001b[1;33m.\u001b[0m\u001b[0mload\u001b[0m\u001b[1;33m(\u001b[0m\u001b[1;34m\"signal.npy\"\u001b[0m\u001b[1;33m)\u001b[0m\u001b[1;33m)\u001b[0m\u001b[1;33m:\u001b[0m\u001b[1;33m\u001b[0m\u001b[1;33m\u001b[0m\u001b[0m\n\u001b[0m\u001b[0;32m      3\u001b[0m \u001b[1;33m\u001b[0m\u001b[0m\n\u001b[0;32m      4\u001b[0m     \u001b[1;31m# Somme du calul de la moyenne\u001b[0m\u001b[1;33m\u001b[0m\u001b[1;33m\u001b[0m\u001b[1;33m\u001b[0m\u001b[0m\n\u001b[0;32m      5\u001b[0m     \u001b[0mtau\u001b[0m \u001b[1;33m=\u001b[0m \u001b[1;36m0\u001b[0m\u001b[1;33m\u001b[0m\u001b[1;33m\u001b[0m\u001b[0m\n",
      "\u001b[1;32mC:\\Logiciels\\Anaconda Python\\lib\\site-packages\\numpy\\lib\\npyio.py\u001b[0m in \u001b[0;36mload\u001b[1;34m(file, mmap_mode, allow_pickle, fix_imports, encoding)\u001b[0m\n\u001b[0;32m    420\u001b[0m         \u001b[0mown_fid\u001b[0m \u001b[1;33m=\u001b[0m \u001b[1;32mFalse\u001b[0m\u001b[1;33m\u001b[0m\u001b[1;33m\u001b[0m\u001b[0m\n\u001b[0;32m    421\u001b[0m     \u001b[1;32melse\u001b[0m\u001b[1;33m:\u001b[0m\u001b[1;33m\u001b[0m\u001b[1;33m\u001b[0m\u001b[0m\n\u001b[1;32m--> 422\u001b[1;33m         \u001b[0mfid\u001b[0m \u001b[1;33m=\u001b[0m \u001b[0mopen\u001b[0m\u001b[1;33m(\u001b[0m\u001b[0mos_fspath\u001b[0m\u001b[1;33m(\u001b[0m\u001b[0mfile\u001b[0m\u001b[1;33m)\u001b[0m\u001b[1;33m,\u001b[0m \u001b[1;34m\"rb\"\u001b[0m\u001b[1;33m)\u001b[0m\u001b[1;33m\u001b[0m\u001b[1;33m\u001b[0m\u001b[0m\n\u001b[0m\u001b[0;32m    423\u001b[0m         \u001b[0mown_fid\u001b[0m \u001b[1;33m=\u001b[0m \u001b[1;32mTrue\u001b[0m\u001b[1;33m\u001b[0m\u001b[1;33m\u001b[0m\u001b[0m\n\u001b[0;32m    424\u001b[0m \u001b[1;33m\u001b[0m\u001b[0m\n",
      "\u001b[1;31mFileNotFoundError\u001b[0m: [Errno 2] No such file or directory: 'signal.npy'"
     ]
    }
   ],
   "source": [
    "# Calcul moyen du taux d'erreur\n",
    "def erreur_moyenne_MV(T, m1, sig1, m2, sig2, toPlot=False, forceX=np.load(\"signal.npy\")):\n",
    "    \n",
    "    # Somme du calul de la moyenne\n",
    "    tau = 0\n",
    "    \n",
    "    # Calcul de l'erreur partielle pour le plot\n",
    "    erreur_partielle = []\n",
    "    abscisse = []    \n",
    "    \n",
    "    # Chargement des données\n",
    "    X = forceX\n",
    "\n",
    "    # Récupération des classes\n",
    "    cl1, cl2 = np.unique(X)\n",
    "        \n",
    "    for k in range(0, T):\n",
    "\n",
    "        # Bruitage du signal\n",
    "        Y = bruit_gauss2(X, cl1, cl2, m1, sig1, m2, sig2)\n",
    "\n",
    "        # Segmentation\n",
    "        S = classif_gauss2(Y, cl1, cl2, m1, sig1, m2, sig2)\n",
    "\n",
    "        # Construction de la somme\n",
    "        tau += taux_erreur(X, S)\n",
    "        \n",
    "        # Ajout du taux d'erreur partiel\n",
    "        erreur_partielle.append(tau/(k+1))\n",
    "        abscisse.append(k+1)\n",
    "    \n",
    "    if toPlot:\n",
    "        # Plot de l'erreur partielle\n",
    "        plt.plot(abscisse, erreur_partielle)\n",
    "        plt.title(\"Taux d'erreur cumulé ((\" + str(m1) + \",\"+ str(sig1) +\") -\" + \" (\" + str(m2) + \",\"+ str(sig2) +\"))\")\n",
    "        plt.show()\n",
    "    \n",
    "    return tau/T\n",
    "\n",
    "# Interprétation lorsque T devient grand :"
   ]
  },
  {
   "cell_type": "code",
   "execution_count": 1,
   "metadata": {},
   "outputs": [
    {
     "ename": "NameError",
     "evalue": "name 'premiere_idee' is not defined",
     "output_type": "error",
     "traceback": [
      "\u001b[1;31m---------------------------------------------------------------------------\u001b[0m",
      "\u001b[1;31mNameError\u001b[0m                                 Traceback (most recent call last)",
      "\u001b[1;32m<ipython-input-1-22558b7da5ad>\u001b[0m in \u001b[0;36m<module>\u001b[1;34m\u001b[0m\n\u001b[0;32m      7\u001b[0m \u001b[1;33m\u001b[0m\u001b[0m\n\u001b[0;32m      8\u001b[0m \u001b[1;32mfor\u001b[0m \u001b[0mk\u001b[0m \u001b[1;32min\u001b[0m \u001b[0mrange\u001b[0m\u001b[1;33m(\u001b[0m\u001b[1;36m0\u001b[0m\u001b[1;33m,\u001b[0m \u001b[0mlen\u001b[0m\u001b[1;33m(\u001b[0m\u001b[0mM1\u001b[0m\u001b[1;33m)\u001b[0m\u001b[1;33m)\u001b[0m\u001b[1;33m:\u001b[0m\u001b[1;33m\u001b[0m\u001b[1;33m\u001b[0m\u001b[0m\n\u001b[1;32m----> 9\u001b[1;33m     \u001b[0mpremiere_idee\u001b[0m\u001b[1;33m(\u001b[0m\u001b[0mM1\u001b[0m\u001b[1;33m[\u001b[0m\u001b[0mk\u001b[0m\u001b[1;33m]\u001b[0m\u001b[1;33m,\u001b[0m \u001b[0mSIG1\u001b[0m\u001b[1;33m[\u001b[0m\u001b[0mk\u001b[0m\u001b[1;33m]\u001b[0m\u001b[1;33m,\u001b[0m \u001b[0mM2\u001b[0m\u001b[1;33m[\u001b[0m\u001b[0mk\u001b[0m\u001b[1;33m]\u001b[0m\u001b[1;33m,\u001b[0m \u001b[0mSIG2\u001b[0m\u001b[1;33m[\u001b[0m\u001b[0mk\u001b[0m\u001b[1;33m]\u001b[0m\u001b[1;33m)\u001b[0m\u001b[1;33m\u001b[0m\u001b[1;33m\u001b[0m\u001b[0m\n\u001b[0m\u001b[0;32m     10\u001b[0m     \u001b[0merreur_moyenne_MV\u001b[0m\u001b[1;33m(\u001b[0m\u001b[1;36m100\u001b[0m\u001b[1;33m,\u001b[0m \u001b[0mM1\u001b[0m\u001b[1;33m[\u001b[0m\u001b[0mk\u001b[0m\u001b[1;33m]\u001b[0m\u001b[1;33m,\u001b[0m \u001b[0mSIG1\u001b[0m\u001b[1;33m[\u001b[0m\u001b[0mk\u001b[0m\u001b[1;33m]\u001b[0m\u001b[1;33m,\u001b[0m \u001b[0mM2\u001b[0m\u001b[1;33m[\u001b[0m\u001b[0mk\u001b[0m\u001b[1;33m]\u001b[0m\u001b[1;33m,\u001b[0m \u001b[0mSIG2\u001b[0m\u001b[1;33m[\u001b[0m\u001b[0mk\u001b[0m\u001b[1;33m]\u001b[0m\u001b[1;33m,\u001b[0m \u001b[0mtoPlot\u001b[0m\u001b[1;33m=\u001b[0m\u001b[1;32mTrue\u001b[0m\u001b[1;33m)\u001b[0m\u001b[1;33m\u001b[0m\u001b[1;33m\u001b[0m\u001b[0m\n",
      "\u001b[1;31mNameError\u001b[0m: name 'premiere_idee' is not defined"
     ]
    }
   ],
   "source": [
    "# Test de la méthode avec les 6 signaux\n",
    "\n",
    "M1 = [120, 127, 127, 127, 127]\n",
    "M2 = [130, 127, 128, 128, 128]\n",
    "SIG1 = [1, 1, 1, 0.1, 2]\n",
    "SIG2 = [2, 5, 1, 0.1, 3]\n",
    "\n",
    "for k in range(0, len(M1)):\n",
    "    premiere_idee(M1[k], SIG1[k], M2[k], SIG2[k])\n",
    "    erreur_moyenne_MV(100, M1[k], SIG1[k], M2[k], SIG2[k], toPlot=True)"
   ]
  },
  {
   "cell_type": "code",
   "execution_count": null,
   "metadata": {},
   "outputs": [],
   "source": []
  }
 ],
 "metadata": {
  "kernelspec": {
   "display_name": "Python 3",
   "language": "python",
   "name": "python3"
  },
  "language_info": {
   "codemirror_mode": {
    "name": "ipython",
    "version": 3
   },
   "file_extension": ".py",
   "mimetype": "text/x-python",
   "name": "python",
   "nbconvert_exporter": "python",
   "pygments_lexer": "ipython3",
   "version": "3.7.4"
  }
 },
 "nbformat": 4,
 "nbformat_minor": 2
}
